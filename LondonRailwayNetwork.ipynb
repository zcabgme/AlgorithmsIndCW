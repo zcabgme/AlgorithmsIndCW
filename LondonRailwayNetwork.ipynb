{
 "cells": [
  {
   "cell_type": "markdown",
   "metadata": {},
   "source": [
    "# The London Railway Network"
   ]
  },
  {
   "cell_type": "markdown",
   "metadata": {},
   "source": [
    "The cell below defines the abstract class whose API you will need to impement. Do NOT modify it."
   ]
  },
  {
   "cell_type": "code",
   "execution_count": 1,
   "metadata": {},
   "outputs": [],
   "source": [
    "# DO NOT MODIFY THIS CELL\n",
    "\n",
    "from abc import ABC, abstractmethod  \n",
    "\n",
    "class AbstractLondonRailwayMapper(ABC):\n",
    "    \n",
    "    # constructor\n",
    "    @abstractmethod\n",
    "    def __init__(self):\n",
    "        pass           \n",
    "        \n",
    "    # data initialisation\n",
    "    @abstractmethod\n",
    "    def loadStationsAndLines(self):\n",
    "        pass\n",
    "\n",
    "    # returns the minimum number of stops to connect station \"fromS\" to station  \"toS\"\n",
    "    # fromS : str\n",
    "    # toS : str\n",
    "    # numStops : int\n",
    "    @abstractmethod\n",
    "    def minStops(self, fromS, toS):     \n",
    "        numStops = -1\n",
    "        return numStops    \n",
    "    \n",
    "    # returns the minimum distance in miles to connect station \"fromS\" to station  \"toS\"\n",
    "    # fromS : str\n",
    "    # toS : str\n",
    "    # minDistance : float\n",
    "    @abstractmethod\n",
    "    def minDistance(self, fromS, toS):\n",
    "        minDistance = -1.0\n",
    "        return minDistance\n",
    "    \n",
    "    # given an unordered list of station names, returns a new railway line \n",
    "    # (represented as a list of adjacent station names), connecting all such stations \n",
    "    # and such that the sum of the distances (in miles) between adjacent stations is minimised\n",
    "    # inputList : set<str>\n",
    "    # outputList : list<str>\n",
    "    @abstractmethod\n",
    "    def newRailwayLine(self, inputList):\n",
    "        outputList = []\n",
    "        return outputList"
   ]
  },
  {
   "cell_type": "markdown",
   "metadata": {},
   "source": [
    "Use the cell below to define any data structure and auxiliary python function you may need. Leave the implementation of the main API to the next code cell instead."
   ]
  },
  {
   "cell_type": "code",
   "execution_count": 2,
   "metadata": {},
   "outputs": [],
   "source": [
    "# ADD YOUR DATA STRUCTURE DEFINITIONS AND HELPER CODE HERE\n",
    "\n"
   ]
  },
  {
   "cell_type": "markdown",
   "metadata": {},
   "source": [
    "Use the cell below to implement the requested API."
   ]
  },
  {
   "cell_type": "code",
   "execution_count": 3,
   "metadata": {},
   "outputs": [],
   "source": [
    "import csv\n",
    "\n",
    "class LondonRailwayMapper(AbstractLondonRailwayMapper):\n",
    "    \n",
    "    def __init__(self):\n",
    "        # ADD YOUR CODE HERE\n",
    "\n",
    "        \n",
    "        pass           \n",
    "     \n",
    "    \n",
    "        \n",
    "    def loadStationsAndLines(self):\n",
    "        # ADD YOUR CODE HERE\n",
    "      \n",
    "        \n",
    "        pass\n",
    "    \n",
    "    \n",
    "\n",
    "    def minStops(self, fromS, toS):     \n",
    "        numStops = -1\n",
    "        # ADD YOUR CODE HERE\n",
    "\n",
    "        \n",
    "        return numStops    \n",
    "    \n",
    "    \n",
    "    \n",
    "    def minDistance(self, fromS, toS):\n",
    "        minDistance = -1.0\n",
    "        # ADD YOUR CODE HERE\n",
    "\n",
    "        \n",
    "        return minDistance\n",
    "    \n",
    "    \n",
    "    \n",
    "    \n",
    "    def newRailwayLine(self, inputList):\n",
    "        outputList = []\n",
    "        # ADD YOUR CODE HERE\n",
    "\n",
    "        \n",
    "        return outputList"
   ]
  },
  {
   "cell_type": "markdown",
   "metadata": {},
   "source": [
    "Use the cell below for all python code needed to test the `LondonRailwayMapper` class above."
   ]
  },
  {
   "cell_type": "code",
   "execution_count": 4,
   "metadata": {},
   "outputs": [],
   "source": [
    "import timeit\n",
    "\n",
    "# ADD YOUR TEST CODE HERE\n",
    "\n",
    "\n",
    "\n"
   ]
  },
  {
   "cell_type": "markdown",
   "metadata": {},
   "source": [
    "The cell below exemplifies the test code I will invoke on your submission. Do NOT modify it. "
   ]
  },
  {
   "cell_type": "code",
   "execution_count": 5,
   "metadata": {},
   "outputs": [
    {
     "ename": "TypeError",
     "evalue": "Can't instantiate abstract class LondonRailwayMapper with abstract methods loadStationsAndLines",
     "output_type": "error",
     "traceback": [
      "\u001b[0;31m---------------------------------------------------------------------------\u001b[0m",
      "\u001b[0;31mTypeError\u001b[0m                                 Traceback (most recent call last)",
      "\u001b[0;32m<ipython-input-5-6eadfa52a372>\u001b[0m in \u001b[0;36m<module>\u001b[0;34m\u001b[0m\n\u001b[1;32m      3\u001b[0m \u001b[0;32mimport\u001b[0m \u001b[0mtimeit\u001b[0m\u001b[0;34m\u001b[0m\u001b[0;34m\u001b[0m\u001b[0m\n\u001b[1;32m      4\u001b[0m \u001b[0;34m\u001b[0m\u001b[0m\n\u001b[0;32m----> 5\u001b[0;31m \u001b[0mtestMapper\u001b[0m \u001b[0;34m=\u001b[0m \u001b[0mLondonRailwayMapper\u001b[0m\u001b[0;34m(\u001b[0m\u001b[0;34m)\u001b[0m\u001b[0;34m\u001b[0m\u001b[0;34m\u001b[0m\u001b[0m\n\u001b[0m\u001b[1;32m      6\u001b[0m \u001b[0;34m\u001b[0m\u001b[0m\n\u001b[1;32m      7\u001b[0m \u001b[0;31m#\u001b[0m\u001b[0;34m\u001b[0m\u001b[0;34m\u001b[0m\u001b[0;34m\u001b[0m\u001b[0m\n",
      "\u001b[0;31mTypeError\u001b[0m: Can't instantiate abstract class LondonRailwayMapper with abstract methods loadStationsAndLines"
     ]
    }
   ],
   "source": [
    "# DO NOT MODIFY THIS CELL\n",
    "\n",
    "import timeit\n",
    "\n",
    "testMapper = LondonRailwayMapper()\n",
    "\n",
    "#\n",
    "# testing the loadStationsAndLines() API \n",
    "#\n",
    "starttime = timeit.default_timer()\n",
    "testMapper.loadStationsAndLines()\n",
    "endtime = timeit.default_timer()\n",
    "print(\"\\nExecution time to load:\", round(endtime-starttime,3))\n",
    "\n",
    "#\n",
    "# testing the minStops() and minStops() API on a sample of from/to station pairs  \n",
    "#\n",
    "fromList = [\"Baker Street\", \"Epping\", \"Canonbury\", \"Vauxhall\"]\n",
    "toList = [\"North Wembley\", \"Belsize Park\", \"Balham\", \"Leytonstone\"]\n",
    "\n",
    "for i in range(len(fromList)):\n",
    "    starttime = timeit.default_timer()\n",
    "    stops = testMapper.minStops(fromList[i], toList[i])\n",
    "    endtime = timeit.default_timer()\n",
    "    print(\"\\nExecution time minStops:\", round(endtime-starttime,3))\n",
    "\n",
    "    starttime = timeit.default_timer()\n",
    "    dist = testMapper.minStops(fromList[i], toList[i])\n",
    "    endtime = timeit.default_timer()\n",
    "    print(\"Execution time minDistance:\", round(endtime-starttime,3))\n",
    "\n",
    "    print(\"From\", fromList[i], \"to\", toList[i], \"in\", stops, \"stops and\", dist, \"miles\")  \n",
    "    \n",
    "#\n",
    "# testing the newRailwayLine() API on a small list of stations  \n",
    "#\n",
    "stationsList = [\"Queens Park\", \"Chigwell\", \"Moorgate\", \"Swiss Cottage\", \"Liverpool Street\", \"Highgate\"]\n",
    "\n",
    "starttime = timeit.default_timer()\n",
    "newLine = testMapper.newRailwayLine(stationsList)\n",
    "endtime = timeit.default_timer()\n",
    "\n",
    "print(\"\\n\\nStation list\", stationsList)\n",
    "print(\"New station line\", newLine)\n",
    "print(\"Total track length from\", newLine[0], \"to\", newLine[len(newLine)-1], \":\", testMapper.minDistance(newLine[0], newLine[len(newLine)-1]), \"miles\")\n",
    "print(\"Execution time newLine:\", round(endtime-starttime,3))\n",
    "\n",
    "#\n",
    "# testing the newRailwayLine() API on a big list of stations  \n",
    "#\n",
    "stationsList = [\"Abbey Road\", \"Barbican\", \"Bethnal Green\", \"Cambridge Heath\", \"Covent Garden\", \"Dollis Hill\", \"East Finchley\", \"Finchley Road and Frognal\", \"Great Portland Street\", \"Hackney Wick\", \"Isleworth\", \"Kentish Town West\", \"Leyton\", \"Marble Arch\", \"North Wembley\", \"Old Street\", \"Pimlico\", \"Queens Park\", \"Richmond\", \"Shepherds Bush\", \"Tottenham Hale\", \"Uxbridge\", \"Vauxhall\", \"Wapping\"]\n",
    "\n",
    "starttime = timeit.default_timer()\n",
    "newLine = testMapper.newRailwayLine(stationsList)\n",
    "endtime = timeit.default_timer()\n",
    "\n",
    "print(\"\\n\\nStation list\", stationsList)\n",
    "print(\"New station line\", newLine)\n",
    "print(\"Total track length from\", newLine[0], \"to\", newLine[len(newLine)-1], \":\", testMapper.minDistance(newLine[0], newLine[len(newLine)-1]), \"miles\")\n",
    "print(\"Execution time newLine:\", round(endtime-starttime,3))"
   ]
  }
 ],
 "metadata": {
  "kernelspec": {
   "display_name": "Python 3",
   "language": "python",
   "name": "python3"
  },
  "language_info": {
   "codemirror_mode": {
    "name": "ipython",
    "version": 3
   },
   "file_extension": ".py",
   "mimetype": "text/x-python",
   "name": "python",
   "nbconvert_exporter": "python",
   "pygments_lexer": "ipython3",
   "version": "3.7.6"
  }
 },
 "nbformat": 4,
 "nbformat_minor": 4
}
